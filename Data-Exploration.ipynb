{
 "cells": [
  {
   "cell_type": "code",
   "execution_count": null,
   "metadata": {
    "collapsed": true,
    "deletable": true,
    "editable": true
   },
   "outputs": [],
   "source": [
    "import requests\n",
    "import time\n",
    "import pickle\n",
    "import pandas as pd\n",
    "import numpy as np"
   ]
  },
  {
   "cell_type": "code",
   "execution_count": null,
   "metadata": {
    "collapsed": false,
    "deletable": true,
    "editable": true
   },
   "outputs": [],
   "source": [
    "def get_all_stats():\n",
    "    \"\"\"\n",
    "    Gets list of all players containing their stats, and a header containing the stat descriptions\n",
    "    \"\"\"\n",
    "    url = \"https://stats.nba.com/stats/leaguedashplayerstats?College=&Conference=&Country=&DateFrom=&DateTo=&Division=&DraftPick=&DraftYear=&GameScope=&GameSegment=&Height=&LastNGames=0&LeagueID=00&Location=&MeasureType=Base&Month=0&OpponentTeamID=0&Outcome=&PORound=0&PaceAdjust=N&PerMode=PerGame&Period=0&PlayerExperience=&PlayerPosition=&PlusMinus=N&Rank=N&Season=2017-18&SeasonSegment=&SeasonType=Regular+Season&ShotClockRange=&StarterBench=&TeamID=0&VsConference=&VsDivision=&Weight=\"\n",
    "    headers = {'User-Agent': 'Mozilla/5.0 (X11; Linux x86_64) AppleWebKit/537.36 (KHTML, like Gecko) Chrome/48.0.2564.82 Safari/537.36'}\n",
    "    response = requests.get(url, headers = headers)\n",
    "    response.raise_for_status() # Raise exception if invalid response\n",
    "    response_json = response.json()\n",
    "    player_list = response_json['resultSets'][0]['rowSet']\n",
    "    attr_header = response_json['resultSets'][0]['headers']\n",
    "    \n",
    "    return (player_list, attr_header)\n",
    "\n",
    "def get_game_log(player_id):\n",
    "    \"\"\"\n",
    "    Get list of games for a given player (use NBA API player_id)\n",
    "    \"\"\"\n",
    "    url = (\"https://stats.nba.com/stats/leaguegamefinder?Conference=&DateFrom=&DateTo=&Division=&DraftNumber=&DraftRound=&DraftYear=&GB=N&LeagueID=00&Location=&Outcome=&PlayerID=\" \n",
    "           + str(player_id) + \"&PlayerOrTeam=P&Season=2017-18&SeasonType=Regular+Season&StatCategory=PTS&TeamID=&VsConference=&VsDivision=&VsTeamID=\")\n",
    "    headers = {'User-Agent': 'Mozilla/5.0 (X11; Linux x86_64) AppleWebKit/537.36 (KHTML, like Gecko) Chrome/48.0.2564.82 Safari/537.36'}\n",
    "    response = requests.get(url, headers = headers)\n",
    "    response.raise_for_status() # Raise exception if invalid response\n",
    "    response_json = response.json()\n",
    "    game_list = response_json['resultSets'][0]['rowSet']\n",
    "    attr_header = response_json['resultSets'][0]['headers']\n",
    "    \n",
    "    return (game_list, attr_header)"
   ]
  },
  {
   "cell_type": "code",
   "execution_count": null,
   "metadata": {
    "collapsed": false,
    "deletable": true,
    "editable": true
   },
   "outputs": [],
   "source": [
    "player_list, _ = get_all_stats()"
   ]
  },
  {
   "cell_type": "code",
   "execution_count": null,
   "metadata": {
    "collapsed": true,
    "deletable": true,
    "editable": true
   },
   "outputs": [],
   "source": [
    "def make_game_log(player_list, save_as=None):\n",
    "    \"\"\"\n",
    "    player_list: input list from the output of get_all_stats()\n",
    "    Returns a dictionary mapping player id to list of game logs.\n",
    "    The dictionary also contains the header, which describes the stats.\n",
    "    \"\"\"\n",
    "    game_log = {}\n",
    "    for player in player_list:\n",
    "        player_id = player[0]\n",
    "        game_list, attr_header = get_game_log(player_id)\n",
    "        game_log[player_id] = game_list\n",
    "        if 'attr_header' not in game_log:\n",
    "            game_log['attr_header'] = attr_header\n",
    "        time.sleep(.5)\n",
    "    \n",
    "    if save_as is not None:\n",
    "        with open(save_as, 'wb') as handle:\n",
    "            pickle.dump(game_log, handle, protocol=pickle.HIGHEST_PROTOCOL)\n",
    "        \n",
    "    return game_log"
   ]
  },
  {
   "cell_type": "code",
   "execution_count": null,
   "metadata": {
    "collapsed": false,
    "deletable": true,
    "editable": true
   },
   "outputs": [],
   "source": [
    "game_log = make_game_log(player_list)"
   ]
  },
  {
   "cell_type": "code",
   "execution_count": null,
   "metadata": {
    "collapsed": false,
    "deletable": true,
    "editable": true
   },
   "outputs": [],
   "source": [
    "def create_mapping(game_log):\n",
    "    \"\"\"\n",
    "    Use game_log's 'attr_header' from make_game_log \n",
    "    to create a mapping from description to index\n",
    "    \"\"\"\n",
    "    mapping = {}\n",
    "    for i in xrange(len(game_log['attr_header'])):\n",
    "        mapping[game_log['attr_header'][i]] = i\n",
    "    return mapping\n",
    "\n",
    "def add_mean(means, player_id, important_stats):\n",
    "    mean_sum = np.zeros(12)\n",
    "    count = 0\n",
    "    for game_data in game_log[player_id]:\n",
    "        new_list = []\n",
    "        for stats in important_stats:\n",
    "            if stats == 'DD':\n",
    "                dd_stats = ['PTS', 'REB', 'AST', 'STL', 'BLK']\n",
    "                dd_num = 0\n",
    "                for dd_stat in dd_stats:\n",
    "                    if game_data[mapping[dd_stat]] >= 10:\n",
    "                        dd_num += 1\n",
    "                if dd_num >= 2:\n",
    "                    new_list.append(1.)\n",
    "                else:\n",
    "                    new_list.append(0.)\n",
    "            else:\n",
    "                new_list.append(float(game_data[mapping[stats]]))\n",
    "        mean_sum += np.array(new_list)\n",
    "        count += 1\n",
    "    means[player_id] = mean_sum / count\n",
    "    \n",
    "def create_means(player_list, important_stats, save_as=None):\n",
    "    means = {}\n",
    "    means['cats'] = important_stats\n",
    "    for player in player_list:\n",
    "        player_id = player[0]\n",
    "        add_mean(means, player_id, important_stats)\n",
    "    if save_as is not None:\n",
    "        with open(save_as, 'wb') as handle:\n",
    "            pickle.dump(means, handle, protocol=pickle.HIGHEST_PROTOCOL)\n",
    "    return means\n",
    "\n",
    "mapping = create_mapping(game_log)\n",
    "important_stats = ['PTS', 'FGM', 'FGA', 'FG3M', 'FTM', 'FTA', 'REB', 'AST', 'STL', 'BLK', 'TOV', 'DD']\n",
    "means = create_means(player_list, important_stats)"
   ]
  },
  {
   "cell_type": "code",
   "execution_count": null,
   "metadata": {
    "collapsed": false,
    "deletable": true,
    "editable": true
   },
   "outputs": [],
   "source": [
    "def add_cov(covs, means, player_id, important_stats):\n",
    "    mean_cov = np.zeros((12,12))\n",
    "    count = 0\n",
    "    for game_data in game_log[player_id]:\n",
    "        new_list = []\n",
    "        for stats in important_stats:\n",
    "            if stats == 'DD':\n",
    "                dd_stats = ['PTS', 'REB', 'AST', 'STL', 'BLK']\n",
    "                dd_num = 0\n",
    "                for dd_stat in dd_stats:\n",
    "                    if game_data[mapping[dd_stat]] >= 10:\n",
    "                        dd_num += 1\n",
    "                if dd_num >= 2:\n",
    "                    new_list.append(1.)\n",
    "                else:\n",
    "                    new_list.append(0.)\n",
    "            else:\n",
    "                new_list.append(float(game_data[mapping[stats]]))\n",
    "        mean_cov += np.outer(np.array(new_list) - means[player_id], np.array(new_list) - means[player_id])\n",
    "        count += 1\n",
    "    if count == 1:\n",
    "        covs[player_id] = mean_cov\n",
    "    else:\n",
    "        covs[player_id] = mean_cov / (count - 1)\n",
    "\n",
    "def create_covs(means, player_list, important_stats, save_as=None):\n",
    "    covs = {}\n",
    "    covs['cats'] = important_stats\n",
    "    for player in player_list:\n",
    "        player_id = player[0]\n",
    "        add_cov(covs, means, player_id, important_stats)\n",
    "    if save_as is not None:\n",
    "        with open(save_as, 'wb') as handle:\n",
    "            pickle.dump(covs, handle, protocol=pickle.HIGHEST_PROTOCOL)\n",
    "    return covs\n",
    "        \n",
    "covs = create_covs(means, player_list, important_stats)"
   ]
  }
 ],
 "metadata": {
  "anaconda-cloud": {},
  "kernelspec": {
   "display_name": "Python [Root]",
   "language": "python",
   "name": "Python [Root]"
  },
  "language_info": {
   "codemirror_mode": {
    "name": "ipython",
    "version": 2
   },
   "file_extension": ".py",
   "mimetype": "text/x-python",
   "name": "python",
   "nbconvert_exporter": "python",
   "pygments_lexer": "ipython2",
   "version": "2.7.12"
  }
 },
 "nbformat": 4,
 "nbformat_minor": 2
}
