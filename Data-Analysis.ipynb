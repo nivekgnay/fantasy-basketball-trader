{
 "cells": [
  {
   "cell_type": "markdown",
   "metadata": {},
   "source": [
    "<h1>Data Scraping and Simulation</h1>\n",
    "\n",
    "Notes:\n",
    "1. it may be better to not simulate DD's as it's own category. Ideally covariances account for that but there will probably be a lot of noise"
   ]
  },
  {
   "cell_type": "code",
   "execution_count": null,
   "metadata": {
    "collapsed": true
   },
   "outputs": [],
   "source": [
    "import pickle\n",
    "from bs4 import BeautifulSoup\n",
    "import numpy as np\n",
    "from scipy.stats import multivariate_normal\n",
    "from operator import itemgetter"
   ]
  },
  {
   "cell_type": "code",
   "execution_count": null,
   "metadata": {
    "collapsed": true
   },
   "outputs": [],
   "source": [
    "player_list_dict = pickle.load( open( \"data/player_list_dict.pickle\", \"rb\" ))\n",
    "means = pickle.load( open( \"data/means_dict.pickle\", \"rb\" ) )\n",
    "covs = pickle.load( open( \"data/covs_dict.pickle\", \"rb\" ) )"
   ]
  },
  {
   "cell_type": "code",
   "execution_count": null,
   "metadata": {
    "collapsed": false
   },
   "outputs": [],
   "source": [
    "rosters_html = \"\"\n",
    "with open('data/espn_rosters.htm', 'r') as myfile:\n",
    "    rosters_html=myfile.read().replace('\\n', '')"
   ]
  },
  {
   "cell_type": "code",
   "execution_count": null,
   "metadata": {
    "collapsed": false
   },
   "outputs": [],
   "source": [
    "teams_list = []\n",
    "soup = BeautifulSoup(rosters_html, 'html.parser')\n",
    "table_list = soup.find_all(\"table\", {\"class\": \"playerTableTable tableBody\"})\n",
    "for table in table_list:\n",
    "    team_data = {}\n",
    "    team_row = table.find(\"tr\", {\"class\": \"playerTableBgRowHead tableHead playertableSectionHeader\"})\n",
    "    team_name = team_row.find(\"a\").contents[0]\n",
    "    team_data['name'] = team_name\n",
    "    table_player_list = table.find_all(\"td\", {\"class\": \"playertablePlayerName\"})\n",
    "    team_roster = []\n",
    "    team_roster_ids = []\n",
    "    for player in table_player_list:\n",
    "        player_name = player.find(\"a\").contents[0]\n",
    "        team_roster.append(player_name)\n",
    "        try:\n",
    "            team_roster_ids.append(mapping[player_name.upper()])\n",
    "        except:\n",
    "            # For now, ignore players that have not played all season\n",
    "            print player_name\n",
    "    team_data['roster'] = team_roster\n",
    "    team_data['roster_id'] = team_roster_ids\n",
    "    teams_list.append(team_data)\n",
    "\n",
    "teams_list"
   ]
  },
  {
   "cell_type": "code",
   "execution_count": null,
   "metadata": {
    "collapsed": false
   },
   "outputs": [],
   "source": [
    "# Create mapping from player name to NBA stats player ID\n",
    "mapping = {}\n",
    "player_list = player_list_dict['player_list']\n",
    "print player_list_dict['attr_header']\n",
    "for player in player_list:\n",
    "    mapping[player[1].upper()] = player[0]\n",
    "print player_list[0]\n"
   ]
  },
  {
   "cell_type": "code",
   "execution_count": null,
   "metadata": {
    "collapsed": false
   },
   "outputs": [],
   "source": [
    "def get_cumulative_dist(team):\n",
    "    \"\"\"\n",
    "    Given a team dictionary, returns the sum of the corresponding distributions.\n",
    "    Assumes all players are independent.\n",
    "    \"\"\"\n",
    "    total_mean = np.zeros(12)\n",
    "    total_covs = np.zeros((12,12))\n",
    "    \n",
    "    player_ids = team['roster_id']\n",
    "    for player_id in player_ids:\n",
    "        total_mean += means[player_id]\n",
    "        total_covs += covs[player_id]\n",
    "        \n",
    "    return total_mean, total_covs\n",
    "\n",
    "def get_outcome_prob(team1, team2, num_samples=1000):\n",
    "    \"\"\"\n",
    "    Returns expected win value of team1 vs. team2 matchup.\n",
    "    If team1 wins, 1 point, if tie, .5 points, if lose, 0 points.\n",
    "    \"\"\"\n",
    "    mean1, cov1 = get_cumulative_dist(team1)\n",
    "    mean2, cov2 = get_cumulative_dist(team2)\n",
    "    \n",
    "    rv1 = multivariate_normal(mean1, cov1, allow_singular=True)\n",
    "    rv2 = multivariate_normal(mean2, cov2, allow_singular=True)\n",
    "    \n",
    "    total_won = 0\n",
    "    total_tied = 0\n",
    "    for i in xrange(num_samples):\n",
    "        sample1 = rv1.rvs()\n",
    "        sample2 = rv2.rvs()\n",
    "        \n",
    "        won = 0\n",
    "        tied = 0\n",
    "        lost = 0\n",
    "        \n",
    "        normal_stats = [0,3,6,7,8,9,11] # more is better\n",
    "        inverse_stats = [10] # more is worse\n",
    "        \n",
    "        for stat_index in normal_stats:\n",
    "            if sample1[stat_index] > sample2[stat_index]:\n",
    "                won += 1\n",
    "            elif sample1[stat_index] == sample2[stat_index]:\n",
    "                tied += 1\n",
    "            else:\n",
    "                lost += 1\n",
    "        for stat_index in inverse_stats:\n",
    "            if sample1[stat_index] < sample2[stat_index]:\n",
    "                won += 1\n",
    "            elif sample1[stat_index] == sample2[stat_index]:\n",
    "                tied += 1\n",
    "            else:\n",
    "                lost += 1\n",
    "        \n",
    "        fg1_pct = float(sample1[1]) / sample1[2]\n",
    "        fg2_pct = float(sample2[1]) / sample2[2]\n",
    "        ft1_pct = float(sample1[4]) / sample1[5]\n",
    "        ft2_pct = float(sample2[4]) / sample2[5]\n",
    "        \n",
    "        if fg1_pct > fg2_pct:\n",
    "            won += 1\n",
    "        elif fg1_pct == fg2_pct:\n",
    "            tied += 1\n",
    "        else:\n",
    "            lost += 1\n",
    "            \n",
    "        if ft1_pct > ft2_pct:\n",
    "            won += 1\n",
    "        elif ft1_pct == ft2_pct:\n",
    "            tied += 1\n",
    "        else:\n",
    "            lost += 1\n",
    "            \n",
    "        if won > lost:\n",
    "            total_won += 1\n",
    "        elif won == lost:\n",
    "            total_tied += 1\n",
    "            \n",
    "    return float(total_won) / num_samples, float(total_tied) / num_samples\n",
    "\n",
    "def get_record(team, other_teams):\n",
    "    # Get expected record. Wins are +1, Ties are +.5\n",
    "    total = 0.\n",
    "    for other_team in other_teams:\n",
    "        win_prob, tie_prob = get_outcome_prob(team, other_team)\n",
    "        total += win_prob + .5 * tie_prob\n",
    "    return total\n",
    "\n",
    "def get_standings(teams_list):\n",
    "    standings = []\n",
    "    for i in xrange(len(teams_list)):\n",
    "        team = teams_list[i]\n",
    "        other_teams = [x for j,x in enumerate(teams_list) if j!=i]\n",
    "        record = get_record(team, other_teams)\n",
    "        standings.append((team['name'], record))\n",
    "    return sorted(standings, key=itemgetter(1), reverse=True)\n",
    "    \n",
    "print get_standings(teams_list)"
   ]
  },
  {
   "cell_type": "code",
   "execution_count": null,
   "metadata": {
    "collapsed": false
   },
   "outputs": [],
   "source": [
    "names_list = [team['name'] for team in teams_list]\n",
    "names_list"
   ]
  },
  {
   "cell_type": "markdown",
   "metadata": {},
   "source": [
    "<h1>Trade Simulator</h1>"
   ]
  },
  {
   "cell_type": "code",
   "execution_count": null,
   "metadata": {
    "collapsed": true
   },
   "outputs": [],
   "source": []
  }
 ],
 "metadata": {
  "kernelspec": {
   "display_name": "Python [Root]",
   "language": "python",
   "name": "Python [Root]"
  },
  "language_info": {
   "codemirror_mode": {
    "name": "ipython",
    "version": 2
   },
   "file_extension": ".py",
   "mimetype": "text/x-python",
   "name": "python",
   "nbconvert_exporter": "python",
   "pygments_lexer": "ipython2",
   "version": "2.7.12"
  }
 },
 "nbformat": 4,
 "nbformat_minor": 2
}
